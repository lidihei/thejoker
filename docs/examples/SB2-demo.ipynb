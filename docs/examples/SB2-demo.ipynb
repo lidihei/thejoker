{
 "cells": [
  {
   "cell_type": "markdown",
   "metadata": {},
   "source": [
    "This requires installing an experimental branch of `thejoker`: \n",
    "\n",
    "    pip install git+https://github.com/adrn/thejoker@sb2"
   ]
  },
  {
   "cell_type": "code",
   "execution_count": 1,
   "metadata": {
    "ExecuteTime": {
     "end_time": "2023-04-28T15:55:05.704453Z",
     "start_time": "2023-04-28T15:54:52.479356Z"
    }
   },
   "outputs": [],
   "source": [
    "import os\n",
    "\n",
    "from astropy.time import Time\n",
    "import astropy.units as u\n",
    "import matplotlib as mpl\n",
    "import matplotlib.pyplot as plt\n",
    "%matplotlib inline\n",
    "import numpy as np\n",
    "from twobody import KeplerOrbit, TwoBodyKeplerElements\n",
    "import pymc as pm\n",
    "from astropy.visualization.units import quantity_support\n",
    "\n",
    "import thejoker as tj\n",
    "\n",
    "plt.style.use('lijiaonature')"
   ]
  },
  {
   "cell_type": "raw",
   "metadata": {},
   "source": [
    "DEPRECATION: Loading egg at /opt/anaconda3/lib/python3.11/site-packages/pyexspec-0.0.0-py3.11.egg is deprecated. pip 24.3 will enforce this behaviour change. A possible replacement is to use pip for package installation.. Discussion can be found at https://github.com/pypa/pip/issues/12330\n",
    "DEPRECATION: Loading egg at /opt/anaconda3/lib/python3.11/site-packages/fonttools-4.51.0-py3.11.egg is deprecated. pip 24.3 will enforce this behaviour change. A possible replacement is to use pip for package installation.. Discussion can be found at https://github.com/pypa/pip/issues/12330"
   ]
  },
  {
   "cell_type": "code",
   "execution_count": 2,
   "metadata": {
    "ExecuteTime": {
     "end_time": "2023-04-28T15:55:05.707469Z",
     "start_time": "2023-04-28T15:55:05.705698Z"
    }
   },
   "outputs": [
    {
     "name": "stdout",
     "output_type": "stream",
     "text": [
      "5.3.4\n",
      "1.26.4\n"
     ]
    }
   ],
   "source": [
    "import astropy\n",
    "import numpy\n",
    "print(astropy.__version__)\n",
    "print(numpy.__version__)"
   ]
  },
  {
   "cell_type": "markdown",
   "metadata": {},
   "source": [
    "Generate fake data. This implementation requires that you can assign RV measurements to each binary star component:"
   ]
  },
  {
   "cell_type": "code",
   "execution_count": 3,
   "metadata": {
    "ExecuteTime": {
     "end_time": "2023-04-28T15:57:19.424861Z",
     "start_time": "2023-04-28T15:57:19.409536Z"
    }
   },
   "outputs": [],
   "source": [
    "n_data1 = 5\n",
    "n_data2 = 3\n",
    "\n",
    "rnd = np.random.RandomState(42)\n",
    "t0 = Time('J2000') + rnd.uniform(0., 20) * u.day\n",
    "\n",
    "truth1 = dict()\n",
    "truth1['P'] = rnd.uniform(40, 80) * u.day\n",
    "truth1['M0'] = rnd.uniform(0., 2*np.pi) * u.radian\n",
    "truth1['omega'] = rnd.uniform(0., 2*np.pi) * u.radian\n",
    "truth1['e'] = 0.2\n",
    "truth1['K'] = rnd.uniform(5, 15) * u.km/u.s\n",
    "truth1['v0'] = rnd.uniform(-10, 10) * u.km/u.s\n",
    "\n",
    "elem = TwoBodyKeplerElements(P=truth1['P'], e=truth1['e'], omega=truth1['omega'],\n",
    "                             M0=truth1['M0'], t0=t0, m1=1*u.Msun, m2=0.4*u.Msun,\n",
    "                             i=90*u.deg, Omega=51*u.deg)  # these don't matter"
   ]
  },
  {
   "cell_type": "code",
   "execution_count": 4,
   "metadata": {},
   "outputs": [
    {
     "data": {
      "text/latex": [
       "$78.028572 \\; \\mathrm{d}$"
      ],
      "text/plain": [
       "<Quantity 78.02857226 d>"
      ]
     },
     "execution_count": 4,
     "metadata": {},
     "output_type": "execute_result"
    }
   ],
   "source": [
    "truth1['P'] "
   ]
  },
  {
   "cell_type": "markdown",
   "metadata": {},
   "source": [
    "Pack the fake data into a dictionary (required with the current API):"
   ]
  },
  {
   "cell_type": "code",
   "execution_count": 5,
   "metadata": {
    "ExecuteTime": {
     "end_time": "2023-04-28T15:58:19.655376Z",
     "start_time": "2023-04-28T15:58:19.629790Z"
    }
   },
   "outputs": [
    {
     "data": {
      "text/plain": [
       "{'1': <RVData: 5 epochs>, '2': <RVData: 3 epochs>}"
      ]
     },
     "execution_count": 5,
     "metadata": {},
     "output_type": "execute_result"
    }
   ],
   "source": [
    "orbit1 = KeplerOrbit(elem.primary)\n",
    "orbit2 = KeplerOrbit(elem.secondary)\n",
    "\n",
    "t1 = t0 + truth1['P'] * np.sort(rnd.uniform(0, 5, n_data1))\n",
    "t2 = t0 + truth1['P'] * np.sort(rnd.uniform(0, 5, n_data2))\n",
    "\n",
    "datas = {}\n",
    "for name, t, orbit in zip(['1', '2'], [t1, t2], [orbit1, orbit2]):\n",
    "    rv = orbit.radial_velocity(t) + truth1['v0']\n",
    "    err = np.full_like(rv.value, 5.) * u.km/u.s\n",
    "    data = tj.RVData(t, rv, rv_err=err, t_ref=t0)\n",
    "    datas[name] = data\n",
    "    \n",
    "datas"
   ]
  },
  {
   "cell_type": "markdown",
   "metadata": {},
   "source": [
    "Plot the fake data:"
   ]
  },
  {
   "cell_type": "code",
   "execution_count": 6,
   "metadata": {
    "ExecuteTime": {
     "end_time": "2023-04-28T15:58:20.583375Z",
     "start_time": "2023-04-28T15:58:20.440998Z"
    }
   },
   "outputs": [
    {
     "data": {
      "text/plain": [
       "<Axes: xlabel='time [BMJD]', ylabel='RV [$\\\\mathrm{km\\\\,s^{-1}}$]'>"
      ]
     },
     "execution_count": 6,
     "metadata": {},
     "output_type": "execute_result"
    },
    {
     "data": {
      "image/png": "[encoded data removed]",
      "text/plain": [
       "<Figure size 640x480 with 1 Axes>"
      ]
     },
     "metadata": {},
     "output_type": "display_data"
    }
   ],
   "source": [
    "datas['1'].plot(color='tab:blue')  # primary\n",
    "datas['2'].plot(color='tab:red')  # secondary"
   ]
  },
  {
   "cell_type": "code",
   "execution_count": 7,
   "metadata": {},
   "outputs": [
    {
     "data": {
      "text/latex": [
       "$[13.584184,~7.8227772,~12.128078,~-11.656194,~5.4548825] \\; \\mathrm{\\frac{km}{s}}$"
      ],
      "text/plain": [
       "<Quantity [ 13.58418361,   7.82277723,  12.12807842, -11.65619384,\n",
       "             5.45488247] km / s>"
      ]
     },
     "execution_count": 7,
     "metadata": {},
     "output_type": "execute_result"
    }
   ],
   "source": [
    "orbit1.radial_velocity(t1)"
   ]
  },
  {
   "cell_type": "code",
   "execution_count": 8,
   "metadata": {},
   "outputs": [
    {
     "data": {
      "text/plain": [
       "'/Users/lijiao/Documents/thejoker/docs/examples'"
      ]
     },
     "execution_count": 8,
     "metadata": {},
     "output_type": "execute_result"
    }
   ],
   "source": [
    "pwd"
   ]
  },
  {
   "cell_type": "code",
   "execution_count": 9,
   "metadata": {
    "ExecuteTime": {
     "end_time": "2023-04-28T15:58:37.276404Z",
     "start_time": "2023-04-28T15:58:37.119071Z"
    }
   },
   "outputs": [],
   "source": [
    "import thejoker.units as xu\n",
    "with pm.Model() as model:\n",
    "    dv0_1 = xu.with_unit(pm.Normal(\"dv0_1\", 0, 10), u.km / u.s)\n",
    "    prior = tj.JokerSB2Prior.default(\n",
    "        P_min=0.5*u.day, P_max=500*u.day,\n",
    "        sigma_v=25*u.km/u.s,\n",
    "        sigma_K0_1=30*u.km/u.s,\n",
    "        sigma_K0_2=30*u.km/u.s,\n",
    "    )"
   ]
  },
  {
   "cell_type": "code",
   "execution_count": 10,
   "metadata": {},
   "outputs": [],
   "source": [
    "joker = tj.TheJokerSB2(prior)"
   ]
  },
  {
   "cell_type": "code",
   "execution_count": 11,
   "metadata": {
    "ExecuteTime": {
     "end_time": "2023-04-28T15:58:39.060631Z",
     "start_time": "2023-04-28T15:58:38.906683Z"
    }
   },
   "outputs": [],
   "source": [
    "prior_samples,_ = prior.sample(size=1_000_00)"
   ]
  },
  {
   "cell_type": "code",
   "execution_count": 12,
   "metadata": {},
   "outputs": [
    {
     "data": {
      "text/plain": [
       "\u001b[0;31mInit signature:\u001b[0m \u001b[0mtj\u001b[0m\u001b[0;34m.\u001b[0m\u001b[0mTheJokerSB2\u001b[0m\u001b[0;34m(\u001b[0m\u001b[0mprior\u001b[0m\u001b[0;34m,\u001b[0m \u001b[0mpool\u001b[0m\u001b[0;34m=\u001b[0m\u001b[0;32mNone\u001b[0m\u001b[0;34m,\u001b[0m \u001b[0mrng\u001b[0m\u001b[0;34m=\u001b[0m\u001b[0;32mNone\u001b[0m\u001b[0;34m,\u001b[0m \u001b[0mtempfile_path\u001b[0m\u001b[0;34m=\u001b[0m\u001b[0;32mNone\u001b[0m\u001b[0;34m)\u001b[0m\u001b[0;34m\u001b[0m\u001b[0;34m\u001b[0m\u001b[0m\n",
       "\u001b[0;31mDocstring:\u001b[0m     \n",
       "A custom Monte-Carlo sampler for two-body systems.\n",
       "\n",
       "Parameters\n",
       "----------\n",
       "prior : `~thejoker.JokerPrior`\n",
       "    The specification of the prior probability distribution over all\n",
       "    parameters used in The Joker.\n",
       "pool : `schwimmbad.BasePool` (optional)\n",
       "    A processing pool (default is a `schwimmbad.SerialPool` instance).\n",
       "rng : `numpy.random.Generator` (optional)\n",
       "    A `numpy.random.Generator` instance for controlling random number\n",
       "    generation.\n",
       "tempfile_path : str (optional)\n",
       "    A location on disk where The Joker may store some temporary files. Any\n",
       "    files written here by The Joker should be cleaned up: If any files in\n",
       "    this path persist, something must have gone wrong within The Joker.\n",
       "    Default: ``~/.thejoker``\n",
       "\u001b[0;31mFile:\u001b[0m           /opt/anaconda3/lib/python3.11/site-packages/thejoker/thejoker_sb2.py\n",
       "\u001b[0;31mType:\u001b[0m           type\n",
       "\u001b[0;31mSubclasses:\u001b[0m     "
      ]
     },
     "metadata": {},
     "output_type": "display_data"
    }
   ],
   "source": [
    "tj.TheJokerSB2?"
   ]
  },
  {
   "cell_type": "code",
   "execution_count": 13,
   "metadata": {},
   "outputs": [],
   "source": [
    "data = datas.copy()"
   ]
  },
  {
   "cell_type": "code",
   "execution_count": 14,
   "metadata": {},
   "outputs": [],
   "source": [
    "#joker_helper = joker._make_joker_helper(datas)  # also validates data\n",
    "from thejoker.likelihood_helpers import rejection_sample_inmem                                                                              \n",
    "from thejoker.multiproc_helpers import rejection_sample_helper\n",
    "from thejoker.data_helpers import validate_prepare_data\n",
    "from thejoker.thejoker_sb2 import validate_prepare_data_sb2\n",
    "\n",
    "all_data, ids, M = validate_prepare_data_sb2(          \n",
    "    data, joker.prior.poly_trend, t_ref=data['1'].t_ref)"
   ]
  },
  {
   "cell_type": "code",
   "execution_count": 15,
   "metadata": {},
   "outputs": [
    {
     "data": {
      "text/plain": [
       "8"
      ]
     },
     "execution_count": 15,
     "metadata": {},
     "output_type": "execute_result"
    }
   ],
   "source": [
    "M.shape[0]"
   ]
  },
  {
   "cell_type": "code",
   "execution_count": 16,
   "metadata": {},
   "outputs": [],
   "source": [
    "from thejoker.thejoker_sb2 import CJokerSB2Helper\n",
    "joker_helper = CJokerSB2Helper(all_data, joker.prior, M) "
   ]
  },
  {
   "cell_type": "code",
   "execution_count": 17,
   "metadata": {},
   "outputs": [
    {
     "data": {
      "text/plain": [
       "[TensorConstant(TensorType(float32, shape=()), data=array(0., ... e=float32)),\n",
       " TensorConstant(TensorType(float64, shape=()), data=array(25.))]"
      ]
     },
     "execution_count": 17,
     "metadata": {},
     "output_type": "execute_result"
    }
   ],
   "source": [
    "name = 'v0'\n",
    "dist = prior.model[name]\n",
    "pars = dist.owner.inputs[3:]\n",
    "pars"
   ]
  },
  {
   "cell_type": "code",
   "execution_count": 18,
   "metadata": {},
   "outputs": [
    {
     "data": {
      "text/plain": [
       "(Unit(\"km / s\"), Unit(\"km / s\"))"
      ]
     },
     "execution_count": 18,
     "metadata": {},
     "output_type": "execute_result"
    }
   ],
   "source": [
    "_unit = getattr(prior.model[name], xu.UNIT_ATTR_NAME)\n",
    "to_unit = joker_helper.internal_units[name]\n",
    "_unit, to_unit"
   ]
  },
  {
   "cell_type": "code",
   "execution_count": 19,
   "metadata": {},
   "outputs": [
    {
     "data": {
      "text/plain": [
       "True"
      ]
     },
     "execution_count": 19,
     "metadata": {},
     "output_type": "execute_result"
    }
   ],
   "source": [
    "joker_helper.prior._sb2"
   ]
  },
  {
   "cell_type": "code",
   "execution_count": 20,
   "metadata": {},
   "outputs": [
    {
     "ename": "NameError",
     "evalue": "name 'thejoker' is not defined",
     "output_type": "error",
     "traceback": [
      "\u001b[0;31m---------------------------------------------------------------------------\u001b[0m",
      "\u001b[0;31mNameError\u001b[0m                                 Traceback (most recent call last)",
      "Cell \u001b[0;32mIn[20], line 1\u001b[0m\n\u001b[0;32m----> 1\u001b[0m joker_helper \u001b[38;5;241m=\u001b[39m CJokerSB2Helper(all_data, thejoker\u001b[38;5;241m.\u001b[39mprior, M)\n",
      "\u001b[0;31mNameError\u001b[0m: name 'thejoker' is not defined"
     ]
    }
   ],
   "source": [
    "\n",
    "\n",
    "joker_helper = CJokerSB2Helper(all_data, thejoker.prior, M) \n",
    "#if isinstance(prior_samples, int):\n",
    "#    # If an integer, generate that many prior samples first\n",
    "#    N = prior_samples\n",
    "#    prior_samples = self.prior.sample(size=N, return_logprobs=return_logprobs)\n",
    "#if in_memory:\n",
    "#    if isinstance(prior_samples, JokerSamples):\n",
    "#        ln_prior = None\n",
    "#        if return_logprobs:\n",
    "#            ln_prior = prior_samples[\"ln_prior\"]\n",
    "#        prior_samples, _ = prior_samples.pack(\n",
    "#            units=joker_helper.internal_units, names=joker_helper.packed_order\n",
    "#        )\n",
    "#    else:\n",
    "#        ln_prior = return_logprobs\n",
    "#    samples = rejection_sample_inmem(\n",
    "#        joker_helper,\n",
    "#        prior_samples,\n",
    "#        rng=self.rng,\n",
    "#        ln_prior=ln_prior,\n",
    "#        max_posterior_samples=max_posterior_samples,\n",
    "#        n_linear_samples=n_linear_samples,\n",
    "#        return_all_logprobs=return_all_logprobs,\n",
    "#    )\n",
    "#else:\n",
    "#    samples = rejection_sample_helper(\n",
    "#        joker_helper,\n",
    "#        prior_samples,\n",
    "#        pool=self.pool,\n",
    "#        rng=self.rng,\n",
    "#        n_prior_samples=n_prior_samples,\n",
    "#        max_posterior_samples=max_posterior_samples,\n",
    "#        n_linear_samples=n_linear_samples,\n",
    "#        return_logprobs=return_logprobs,\n",
    "#        n_batches=n_batches,\n",
    "#        randomize_prior_order=randomize_prior_order,\n",
    "#        return_all_logprobs=return_all_logprobs,\n",
    "#    )"
   ]
  },
  {
   "cell_type": "code",
   "execution_count": null,
   "metadata": {},
   "outputs": [],
   "source": [
    "joker.rejection_sample?"
   ]
  },
  {
   "cell_type": "code",
   "execution_count": 21,
   "metadata": {
    "ExecuteTime": {
     "end_time": "2023-04-28T15:58:49.392188Z",
     "start_time": "2023-04-28T15:58:46.203148Z"
    }
   },
   "outputs": [
    {
     "data": {
      "text/plain": [
       "<JokerSB2Samples [P, e, omega, M0, s, K1, K2, v0] (50 samples)>"
      ]
     },
     "execution_count": 21,
     "metadata": {},
     "output_type": "execute_result"
    }
   ],
   "source": [
    "samples = joker.rejection_sample(datas, prior_samples, max_posterior_samples=1000)\n",
    "samples"
   ]
  },
  {
   "cell_type": "code",
   "execution_count": 22,
   "metadata": {},
   "outputs": [],
   "source": [
    "from thejoker.prior_helpers import get_linear_equiv_units"
   ]
  },
  {
   "cell_type": "code",
   "execution_count": 23,
   "metadata": {},
   "outputs": [
    {
     "data": {
      "text/plain": [
       "<JokerSamples [P, e, omega, M0, s] (100000 samples)>"
      ]
     },
     "execution_count": 23,
     "metadata": {},
     "output_type": "execute_result"
    }
   ],
   "source": [
    "prior_samples"
   ]
  },
  {
   "cell_type": "code",
   "execution_count": 24,
   "metadata": {},
   "outputs": [
    {
     "data": {
      "text/plain": [
       "(<Quantity 78.20646325 d>,\n",
       " <Quantity 78.02857226 d>,\n",
       " <Quantity [12.63290708, 78.20646325, 80.25915956] d>,\n",
       " <Quantity 34.47639195 d>)"
      ]
     },
     "execution_count": 24,
     "metadata": {},
     "output_type": "execute_result"
    }
   ],
   "source": [
    "np.median(samples['P']), truth1['P'], np.percentile(samples['P'], [16, 50, 84]), np.std(samples['P'])"
   ]
  },
  {
   "cell_type": "code",
   "execution_count": 25,
   "metadata": {},
   "outputs": [
    {
     "data": {
      "image/png": "[encoded data removed]",
      "text/plain": [
       "<Figure size 800x500 with 1 Axes>"
      ]
     },
     "metadata": {},
     "output_type": "display_data"
    }
   ],
   "source": [
    "fig, ax = plt.subplots(1, 1, figsize=(8, 5))\n",
    "\n",
    "with quantity_support():\n",
    "    ax.scatter(samples[\"P\"], samples[\"e\"], s=20, lw=0, alpha=0.5)\n",
    "\n",
    "    ax.axvline(truth1[\"P\"], zorder=-1, color=\"tab:green\")\n",
    "    ax.axhline(truth1[\"e\"], zorder=-1, color=\"tab:green\")\n",
    "    ax.text(\n",
    "        truth1[\"P\"], 0.95, \"truth\", fontsize=20, va=\"top\", ha=\"left\", color=\"tab:green\"\n",
    "    )"
   ]
  },
  {
   "cell_type": "code",
   "execution_count": 44,
   "metadata": {},
   "outputs": [
    {
     "data": {
      "image/png": "[encoded data removed]",
      "text/plain": [
       "<Figure size 640x480 with 1 Axes>"
      ]
     },
     "metadata": {},
     "output_type": "display_data"
    }
   ],
   "source": [
    "%matplotlib inline\n",
    "_ = plt.hist(samples['P'].value, bins=np.arange(0, 500, 1))"
   ]
  },
  {
   "cell_type": "code",
   "execution_count": 29,
   "metadata": {
    "ExecuteTime": {
     "end_time": "2023-04-28T15:59:20.994201Z",
     "start_time": "2023-04-28T15:59:18.461778Z"
    }
   },
   "outputs": [
    {
     "ename": "AttributeError",
     "evalue": "'JokerSamples' object has no attribute 'primary'",
     "output_type": "error",
     "traceback": [
      "\u001b[0;31m---------------------------------------------------------------------------\u001b[0m",
      "\u001b[0;31mAttributeError\u001b[0m                            Traceback (most recent call last)",
      "Cell \u001b[0;32mIn[29], line 4\u001b[0m\n\u001b[1;32m      1\u001b[0m tgrid \u001b[38;5;241m=\u001b[39m np\u001b[38;5;241m.\u001b[39mlinspace(t0\u001b[38;5;241m.\u001b[39mmjd, t0\u001b[38;5;241m.\u001b[39mmjd \u001b[38;5;241m+\u001b[39m \u001b[38;5;241m5\u001b[39m\u001b[38;5;241m*\u001b[39mtruth1[\u001b[38;5;124m'\u001b[39m\u001b[38;5;124mP\u001b[39m\u001b[38;5;124m'\u001b[39m]\u001b[38;5;241m.\u001b[39mvalue, \u001b[38;5;241m4096\u001b[39m)\n\u001b[1;32m      3\u001b[0m fig, ax \u001b[38;5;241m=\u001b[39m plt\u001b[38;5;241m.\u001b[39msubplots()\n\u001b[0;32m----> 4\u001b[0m _ \u001b[38;5;241m=\u001b[39m tj\u001b[38;5;241m.\u001b[39mplot_rv_curves(data\u001b[38;5;241m=\u001b[39mdatas[\u001b[38;5;124m'\u001b[39m\u001b[38;5;124m1\u001b[39m\u001b[38;5;124m'\u001b[39m], samples\u001b[38;5;241m=\u001b[39msamples\u001b[38;5;241m.\u001b[39mprimary,\n\u001b[1;32m      5\u001b[0m                       data_plot_kwargs\u001b[38;5;241m=\u001b[39m\u001b[38;5;28mdict\u001b[39m(color\u001b[38;5;241m=\u001b[39m\u001b[38;5;124m'\u001b[39m\u001b[38;5;124mtab:blue\u001b[39m\u001b[38;5;124m'\u001b[39m),\n\u001b[1;32m      6\u001b[0m                       plot_kwargs\u001b[38;5;241m=\u001b[39m\u001b[38;5;28mdict\u001b[39m(color\u001b[38;5;241m=\u001b[39m\u001b[38;5;124m'\u001b[39m\u001b[38;5;124mtab:blue\u001b[39m\u001b[38;5;124m'\u001b[39m),\n\u001b[1;32m      7\u001b[0m                       t_grid\u001b[38;5;241m=\u001b[39mtgrid, ax\u001b[38;5;241m=\u001b[39max)\n\u001b[1;32m      8\u001b[0m ax\u001b[38;5;241m.\u001b[39mset_xlim(t0\u001b[38;5;241m.\u001b[39mmjd, t0\u001b[38;5;241m.\u001b[39mmjd \u001b[38;5;241m+\u001b[39m \u001b[38;5;241m5\u001b[39m\u001b[38;5;241m*\u001b[39mtruth1[\u001b[38;5;124m'\u001b[39m\u001b[38;5;124mP\u001b[39m\u001b[38;5;124m'\u001b[39m]\u001b[38;5;241m.\u001b[39mvalue)\n\u001b[1;32m      9\u001b[0m ax\u001b[38;5;241m.\u001b[39mset_ylim(\u001b[38;5;241m-\u001b[39m\u001b[38;5;241m75\u001b[39m, \u001b[38;5;241m75\u001b[39m)\n",
      "\u001b[0;31mAttributeError\u001b[0m: 'JokerSamples' object has no attribute 'primary'"
     ]
    },
    {
     "data": {
      "image/png": "[encoded data removed]",
      "text/plain": [
       "<Figure size 640x480 with 1 Axes>"
      ]
     },
     "metadata": {},
     "output_type": "display_data"
    }
   ],
   "source": [
    "tgrid = np.linspace(t0.mjd, t0.mjd + 5*truth1['P'].value, 4096)\n",
    "\n",
    "fig, ax = plt.subplots()\n",
    "_ = tj.plot_rv_curves(data=datas['1'], samples=samples.primary,\n",
    "                      data_plot_kwargs=dict(color='tab:blue'),\n",
    "                      plot_kwargs=dict(color='tab:blue'),\n",
    "                      t_grid=tgrid, ax=ax)\n",
    "ax.set_xlim(t0.mjd, t0.mjd + 5*truth1['P'].value)\n",
    "ax.set_ylim(-75, 75)\n",
    "\n",
    "\n",
    "fig, ax = plt.subplots()\n",
    "_ = tj.plot_rv_curves(data=datas['2'], samples=samples.secondary, \n",
    "                      data_plot_kwargs=dict(color='tab:red'),\n",
    "                      plot_kwargs=dict(color='tab:red'),\n",
    "                      t_grid=tgrid, ax=ax)\n",
    "\n",
    "ax.set_xlim(t0.mjd, t0.mjd + 5*truth1['P'].value)\n",
    "ax.set_ylim(-75, 75)"
   ]
  },
  {
   "cell_type": "code",
   "execution_count": 76,
   "metadata": {},
   "outputs": [
    {
     "data": {
      "text/plain": [
       "<JokerSamples [P, e, omega, M0, s] (100000 samples)>"
      ]
     },
     "execution_count": 76,
     "metadata": {},
     "output_type": "execute_result"
    }
   ],
   "source": [
    "prior_samples"
   ]
  },
  {
   "cell_type": "markdown",
   "metadata": {},
   "source": [
    "### Custom prior:"
   ]
  },
  {
   "cell_type": "code",
   "execution_count": 14,
   "metadata": {
    "ExecuteTime": {
     "end_time": "2020-08-06T16:33:26.365244Z",
     "start_time": "2020-08-06T16:33:26.362220Z"
    }
   },
   "outputs": [],
   "source": [
    "from thejoker.prior import default_nonlinear_prior\n",
    "from thejoker.prior_sb2 import default_linear_prior_sb2\n",
    "import exoplanet.units as xu"
   ]
  },
  {
   "cell_type": "code",
   "execution_count": 16,
   "metadata": {
    "ExecuteTime": {
     "end_time": "2020-08-06T16:34:01.428778Z",
     "start_time": "2020-08-06T16:34:01.140196Z"
    }
   },
   "outputs": [],
   "source": [
    "v0, ev0 = (1., 0.5)\n",
    "p, ep = (5., 0.1)\n",
    "\n",
    "with pm.Model() as model:\n",
    "    v = xu.with_unit(pm.Normal('v0',v0, ev0), u.km/u.s)\n",
    "    P = xu.with_unit(pm.Normal('P', p, ep), u.day)\n",
    "    e = xu.with_unit(pm.Normal('e', 0, 0.01),u.one)\n",
    "    default_nonlinear_prior(pars={'P': P,'e':e})\n",
    "    default_linear_prior_sb2(sigma_K0_1=30*u.km/u.s,\n",
    "                             P0_1=1*u.day,\n",
    "                             sigma_K0_2=30*u.km/u.s,\n",
    "                             P0_2=1*u.day,\n",
    "                             pars={'v0': v})"
   ]
  },
  {
   "cell_type": "code",
   "execution_count": null,
   "metadata": {},
   "outputs": [],
   "source": []
  }
 ],
 "metadata": {
  "_draft": {
   "nbviewer_url": "https://gist.github.com/bf2ed66f33e65326ca511fd78754e097"
  },
  "gist": {
   "data": {
    "description": "projects/thejoker-notebooks/SB2-test-Copy1.ipynb",
    "public": true
   },
   "id": "bf2ed66f33e65326ca511fd78754e097"
  },
  "kernelspec": {
   "display_name": "Python 3 (ipykernel)",
   "language": "python",
   "name": "python3"
  },
  "language_info": {
   "codemirror_mode": {
    "name": "ipython",
    "version": 3
   },
   "file_extension": ".py",
   "mimetype": "text/x-python",
   "name": "python",
   "nbconvert_exporter": "python",
   "pygments_lexer": "ipython3",
   "version": "3.11.7"
  },
  "toc": {
   "base_numbering": 1,
   "nav_menu": {},
   "number_sections": true,
   "sideBar": true,
   "skip_h1_title": false,
   "title_cell": "Table of Contents",
   "title_sidebar": "Contents",
   "toc_cell": false,
   "toc_position": {},
   "toc_section_display": true,
   "toc_window_display": false
  }
 },
 "nbformat": 4,
 "nbformat_minor": 4
}
